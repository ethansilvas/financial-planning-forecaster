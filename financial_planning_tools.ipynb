{
 "cells": [
  {
   "cell_type": "markdown",
   "metadata": {},
   "source": [
    "# Financial Planning with APIs and Simulations\n",
    "\n",
    "In this Challenge, you’ll create two financial analysis tools by using a single Jupyter notebook:\n",
    "\n",
    "Part 1: A financial planner for emergencies. The members will be able to use this tool to visualize their current savings. The members can then determine if they have enough reserves for an emergency fund.\n",
    "\n",
    "Part 2: A financial planner for retirement. This tool will forecast the performance of their retirement portfolio in 30 years. To do this, the tool will make an Alpaca API call via the Alpaca SDK to get historical price data for use in Monte Carlo simulations.\n",
    "\n",
    "You’ll use the information from the Monte Carlo simulation to answer questions about the portfolio in your Jupyter notebook.\n",
    "\n"
   ]
  },
  {
   "cell_type": "code",
   "execution_count": 1,
   "metadata": {},
   "outputs": [],
   "source": [
    "# Import the required libraries and dependencies\n",
    "import os\n",
    "import requests\n",
    "import json\n",
    "import pandas as pd\n",
    "from dotenv import load_dotenv\n",
    "import alpaca_trade_api as tradeapi\n",
    "from MCForecastTools import MCSimulation\n",
    "\n",
    "%matplotlib inline"
   ]
  },
  {
   "cell_type": "code",
   "execution_count": 2,
   "metadata": {},
   "outputs": [
    {
     "data": {
      "text/plain": [
       "True"
      ]
     },
     "execution_count": 2,
     "metadata": {},
     "output_type": "execute_result"
    }
   ],
   "source": [
    "# Load the environment variables from the .env file\n",
    "#by calling the load_dotenv function\n",
    "load_dotenv()"
   ]
  },
  {
   "cell_type": "markdown",
   "metadata": {},
   "source": [
    "## Part 1: Create a Financial Planner for Emergencies"
   ]
  },
  {
   "cell_type": "markdown",
   "metadata": {},
   "source": [
    "### Evaluate the Cryptocurrency Wallet by Using the Requests Library\n",
    "\n",
    "In this section, you’ll determine the current value of a member’s cryptocurrency wallet. You’ll collect the current prices for the Bitcoin and Ethereum cryptocurrencies by using the Python Requests library. For the prototype, you’ll assume that the member holds the 1.2 Bitcoins (BTC) and 5.3 Ethereum coins (ETH). To do all this, complete the following steps:\n",
    "\n",
    "1. Create a variable named `monthly_income`, and set its value to `12000`.\n",
    "\n",
    "2. Use the Requests library to get the current price (in US dollars) of Bitcoin (BTC) and Ethereum (ETH) by using the API endpoints that the starter code supplies.\n",
    "\n",
    "3. Navigate the JSON response object to access the current price of each coin, and store each in a variable.\n",
    "\n",
    "    > **Hint** Note the specific identifier for each cryptocurrency in the API JSON response. The Bitcoin identifier is `1`, and the Ethereum identifier is `1027`.\n",
    "\n",
    "4. Calculate the value, in US dollars, of the current amount of each cryptocurrency and of the entire cryptocurrency wallet.\n",
    "\n"
   ]
  },
  {
   "cell_type": "code",
   "execution_count": 3,
   "metadata": {},
   "outputs": [],
   "source": [
    "# The current number of coins for each cryptocurrency asset held in the portfolio.\n",
    "btc_coins = 1.2\n",
    "eth_coins = 5.3"
   ]
  },
  {
   "cell_type": "markdown",
   "metadata": {},
   "source": [
    "#### Step 1: Create a variable named `monthly_income`, and set its value to `12000`."
   ]
  },
  {
   "cell_type": "code",
   "execution_count": 4,
   "metadata": {},
   "outputs": [],
   "source": [
    "# The monthly amount for the member's household income\n",
    "monthly_income = 12000\n"
   ]
  },
  {
   "cell_type": "markdown",
   "metadata": {},
   "source": [
    "#### Review the endpoint URLs for the API calls to Free Crypto API in order to get the current pricing information for both BTC and ETH."
   ]
  },
  {
   "cell_type": "code",
   "execution_count": 5,
   "metadata": {},
   "outputs": [],
   "source": [
    "# The Free Crypto API Call endpoint URLs for the held cryptocurrency assets\n",
    "btc_url = \"https://api.alternative.me/v2/ticker/Bitcoin/?convert=USD\"\n",
    "eth_url = \"https://api.alternative.me/v2/ticker/Ethereum/?convert=USD\""
   ]
  },
  {
   "cell_type": "markdown",
   "metadata": {},
   "source": [
    "#### Step 2. Use the Requests library to get the current price (in US dollars) of Bitcoin (BTC) and Ethereum (ETH) by using the API endpoints that the starter code supplied."
   ]
  },
  {
   "cell_type": "code",
   "execution_count": 6,
   "metadata": {},
   "outputs": [
    {
     "name": "stdout",
     "output_type": "stream",
     "text": [
      "{\n",
      "    \"data\": {\n",
      "        \"1\": {\n",
      "            \"circulating_supply\": 19204012,\n",
      "            \"id\": 1,\n",
      "            \"last_updated\": 1668125372,\n",
      "            \"max_supply\": 21000000,\n",
      "            \"name\": \"Bitcoin\",\n",
      "            \"quotes\": {\n",
      "                \"USD\": {\n",
      "                    \"market_cap\": 338423493980,\n",
      "                    \"percent_change_1h\": -1.54555299932472,\n",
      "                    \"percent_change_24h\": 10.7946992258512,\n",
      "                    \"percent_change_7d\": -12.8411872292959,\n",
      "                    \"percentage_change_1h\": -1.54555299932472,\n",
      "                    \"percentage_change_24h\": 10.7946992258512,\n",
      "                    \"percentage_change_7d\": -12.8411872292959,\n",
      "                    \"price\": 17615.59,\n",
      "                    \"volume_24h\": 64492089400\n",
      "                }\n",
      "            },\n",
      "            \"rank\": 1,\n",
      "            \"symbol\": \"BTC\",\n",
      "            \"total_supply\": 19204012,\n",
      "            \"website_slug\": \"bitcoin\"\n",
      "        }\n",
      "    },\n",
      "    \"metadata\": {\n",
      "        \"error\": null,\n",
      "        \"num_cryptocurrencies\": 3119,\n",
      "        \"timestamp\": 1668125372\n",
      "    }\n",
      "}\n"
     ]
    }
   ],
   "source": [
    "# Using the Python requests library, make an API call to access the current price of BTC\n",
    "btc_response = requests.get(btc_url).json()\n",
    "\n",
    "# Use the json.dumps function to review the response data from the API call\n",
    "# Use the indent and sort_keys parameters to make the response object readable\n",
    "print(json.dumps(btc_response, indent=4, sort_keys=True))\n"
   ]
  },
  {
   "cell_type": "code",
   "execution_count": 7,
   "metadata": {},
   "outputs": [
    {
     "name": "stdout",
     "output_type": "stream",
     "text": [
      "{\n",
      "    \"data\": {\n",
      "        \"1027\": {\n",
      "            \"circulating_supply\": 120517019,\n",
      "            \"id\": 1027,\n",
      "            \"last_updated\": 1668125370,\n",
      "            \"max_supply\": 120517019,\n",
      "            \"name\": \"Ethereum\",\n",
      "            \"quotes\": {\n",
      "                \"USD\": {\n",
      "                    \"market_cap\": 156826437892,\n",
      "                    \"percent_change_1h\": -1.90239028912796,\n",
      "                    \"percent_change_24h\": 18.4492671175974,\n",
      "                    \"percent_change_7d\": -14.8572045159415,\n",
      "                    \"percentage_change_1h\": -1.90239028912796,\n",
      "                    \"percentage_change_24h\": 18.4492671175974,\n",
      "                    \"percentage_change_7d\": -14.8572045159415,\n",
      "                    \"price\": 1303.63,\n",
      "                    \"volume_24h\": 23780303645\n",
      "                }\n",
      "            },\n",
      "            \"rank\": 2,\n",
      "            \"symbol\": \"ETH\",\n",
      "            \"total_supply\": 120517019,\n",
      "            \"website_slug\": \"ethereum\"\n",
      "        }\n",
      "    },\n",
      "    \"metadata\": {\n",
      "        \"error\": null,\n",
      "        \"num_cryptocurrencies\": 3119,\n",
      "        \"timestamp\": 1668125370\n",
      "    }\n",
      "}\n"
     ]
    }
   ],
   "source": [
    "# Using the Python requests library, make an API call to access the current price ETH\n",
    "eth_response = requests.get(eth_url).json()\n",
    "\n",
    "# Use the json.dumps function to review the response data from the API call\n",
    "# Use the indent and sort_keys parameters to make the response object readable\n",
    "print(json.dumps(eth_response, indent=4, sort_keys=True))\n"
   ]
  },
  {
   "cell_type": "markdown",
   "metadata": {},
   "source": [
    "#### Step 3: Navigate the JSON response object to access the current price of each coin, and store each in a variable."
   ]
  },
  {
   "cell_type": "code",
   "execution_count": 8,
   "metadata": {},
   "outputs": [
    {
     "name": "stdout",
     "output_type": "stream",
     "text": [
      "Current price of BTC: $17615.59\n"
     ]
    }
   ],
   "source": [
    "# Navigate the BTC response object to access the current price of BTC\n",
    "btc_price = btc_response['data']['1']['quotes']['USD']['price']\n",
    "\n",
    "# Print the current price of BTC\n",
    "print(f'Current price of BTC: ${btc_price}')\n"
   ]
  },
  {
   "cell_type": "code",
   "execution_count": 9,
   "metadata": {},
   "outputs": [
    {
     "name": "stdout",
     "output_type": "stream",
     "text": [
      "Current price of ETH: $1303.63\n"
     ]
    }
   ],
   "source": [
    "# Navigate the BTC response object to access the current price of ETH\n",
    "eth_price = eth_response['data']['1027']['quotes']['USD']['price']\n",
    "\n",
    "# Print the current price of ETH\n",
    "print(f'Current price of ETH: ${eth_price}')\n"
   ]
  },
  {
   "cell_type": "markdown",
   "metadata": {},
   "source": [
    "### Step 4: Calculate the value, in US dollars, of the current amount of each cryptocurrency and of the entire cryptocurrency wallet."
   ]
  },
  {
   "cell_type": "code",
   "execution_count": 10,
   "metadata": {},
   "outputs": [
    {
     "name": "stdout",
     "output_type": "stream",
     "text": [
      "Current value of your holding in BTC: $21138.71\n"
     ]
    }
   ],
   "source": [
    "# Compute the current value of the BTC holding \n",
    "btc_value = btc_coins * btc_price\n",
    "\n",
    "# Print current value of your holding in BTC\n",
    "print(f'Current value of your holding in BTC: ${btc_value:.2f}')\n"
   ]
  },
  {
   "cell_type": "code",
   "execution_count": 11,
   "metadata": {},
   "outputs": [
    {
     "name": "stdout",
     "output_type": "stream",
     "text": [
      "Current value of your holding in ETH: $6909.24\n"
     ]
    }
   ],
   "source": [
    "# Compute the current value of the ETH holding \n",
    "eth_value = eth_coins * eth_price\n",
    "\n",
    "# Print current value of your holding in ETH\n",
    "print(f'Current value of your holding in ETH: ${eth_value:.2f}')\n"
   ]
  },
  {
   "cell_type": "code",
   "execution_count": 12,
   "metadata": {},
   "outputs": [
    {
     "name": "stdout",
     "output_type": "stream",
     "text": [
      "Current Cryptocurrency wallet balance: $28047.95\n"
     ]
    }
   ],
   "source": [
    "# Compute the total value of the cryptocurrency wallet\n",
    "# Add the value of the BTC holding to the value of the ETH holding\n",
    "total_crypto_wallet = btc_value + eth_value\n",
    "\n",
    "# Print current cryptocurrency wallet balance\n",
    "print(f'Current Cryptocurrency wallet balance: ${total_crypto_wallet:.2f}')\n"
   ]
  },
  {
   "cell_type": "markdown",
   "metadata": {},
   "source": [
    "### Evaluate the Stock and Bond Holdings by Using the Alpaca SDK\n",
    "\n",
    "In this section, you’ll determine the current value of a member’s stock and bond holdings. You’ll make an API call to Alpaca via the Alpaca SDK to get the current closing prices of the SPDR S&P 500 ETF Trust (ticker: SPY) and of the iShares Core US Aggregate Bond ETF (ticker: AGG). For the prototype, assume that the member holds 110 shares of SPY, which represents the stock portion of their portfolio, and 200 shares of AGG, which represents the bond portion. To do all this, complete the following steps:\n",
    "\n",
    "1. In the `Starter_Code` folder, create an environment file (`.env`) to store the values of your Alpaca API key and Alpaca secret key.\n",
    "\n",
    "2. Set the variables for the Alpaca API and secret keys. Using the Alpaca SDK, create the Alpaca `tradeapi.REST` object. In this object, include the parameters for the Alpaca API key, the secret key, and the version number.\n",
    "\n",
    "3. Set the following parameters for the Alpaca API call:\n",
    "\n",
    "    - `tickers`: Use the tickers for the member’s stock and bond holdings.\n",
    "\n",
    "    - `timeframe`: Use a time frame of one day.\n",
    "\n",
    "    - `start_date` and `end_date`: Use the same date for these parameters, and format them with the date of the previous weekday (or `2020-08-07`). This is because you want the one closing price for the most-recent trading day.\n",
    "\n",
    "4. Get the current closing prices for `SPY` and `AGG` by using the Alpaca `get_bars` function. Format the response as a Pandas DataFrame by including the `df` property at the end of the `get_bars` function.\n",
    "\n",
    "5. Navigating the Alpaca response DataFrame, select the `SPY` and `AGG` closing prices, and store them as variables.\n",
    "\n",
    "6. Calculate the value, in US dollars, of the current amount of shares in each of the stock and bond portions of the portfolio, and print the results.\n"
   ]
  },
  {
   "cell_type": "markdown",
   "metadata": {},
   "source": [
    "#### Review the total number of shares held in both (SPY) and (AGG)."
   ]
  },
  {
   "cell_type": "code",
   "execution_count": 13,
   "metadata": {},
   "outputs": [],
   "source": [
    "# Current amount of shares held in both the stock (SPY) and bond (AGG) portion of the portfolio.\n",
    "spy_shares = 110\n",
    "agg_shares = 200\n"
   ]
  },
  {
   "cell_type": "markdown",
   "metadata": {},
   "source": [
    "#### Step 1: In the `Starter_Code` folder, create an environment file (`.env`) to store the values of your Alpaca API key and Alpaca secret key."
   ]
  },
  {
   "cell_type": "markdown",
   "metadata": {},
   "source": [
    "#### Step 2: Set the variables for the Alpaca API and secret keys. Using the Alpaca SDK, create the Alpaca `tradeapi.REST` object. In this object, include the parameters for the Alpaca API key, the secret key, and the version number."
   ]
  },
  {
   "cell_type": "code",
   "execution_count": 14,
   "metadata": {},
   "outputs": [],
   "source": [
    "# Set the variables for the Alpaca API and secret keys\n",
    "alpaca_api_key = os.getenv('ALPACA_API_KEY')\n",
    "alpaca_secret_key = os.getenv('ALPACA_SECRET_KEY')\n",
    "\n",
    "# Create the Alpaca tradeapi.REST object\n",
    "alpaca = tradeapi.REST(\n",
    "    alpaca_api_key,\n",
    "    alpaca_secret_key,\n",
    "    api_version='v2'\n",
    ")\n"
   ]
  },
  {
   "cell_type": "markdown",
   "metadata": {},
   "source": [
    "#### Step 3: Set the following parameters for the Alpaca API call:\n",
    "\n",
    "- `tickers`: Use the tickers for the member’s stock and bond holdings.\n",
    "\n",
    "- `timeframe`: Use a time frame of one day.\n",
    "\n",
    "- `start_date` and `end_date`: Use the same date for these parameters, and format them with the date of the previous weekday (or `2020-08-07`). This is because you want the one closing price for the most-recent trading day.\n"
   ]
  },
  {
   "cell_type": "code",
   "execution_count": 15,
   "metadata": {},
   "outputs": [],
   "source": [
    "# Set the tickers for both the bond and stock portion of the portfolio\n",
    "tickers = ['SPY', 'AGG']\n",
    "\n",
    "# Set timeframe to 1Day\n",
    "timeframe = '1Day'\n",
    "\n",
    "# Format current date as ISO format\n",
    "# Set both the start and end date at the date of your prior weekday \n",
    "# This will give you the closing price of the previous trading day\n",
    "# Alternatively you can use a start and end date of 2020-08-07\n",
    "start_date = pd.Timestamp('2022-11-09', tz='America/New_York').isoformat()\n",
    "end_date = pd.Timestamp('2022-11-09', tz='America/New_York').isoformat()\n"
   ]
  },
  {
   "cell_type": "markdown",
   "metadata": {},
   "source": [
    "#### Step 4: Get the current closing prices for `SPY` and `AGG` by using the Alpaca `get_bars` function. Format the response as a Pandas DataFrame by including the `df` property at the end of the `get_bars` function."
   ]
  },
  {
   "cell_type": "code",
   "execution_count": 20,
   "metadata": {},
   "outputs": [
    {
     "data": {
      "text/html": [
       "<div>\n",
       "<style scoped>\n",
       "    .dataframe tbody tr th:only-of-type {\n",
       "        vertical-align: middle;\n",
       "    }\n",
       "\n",
       "    .dataframe tbody tr th {\n",
       "        vertical-align: top;\n",
       "    }\n",
       "\n",
       "    .dataframe thead tr th {\n",
       "        text-align: left;\n",
       "    }\n",
       "\n",
       "    .dataframe thead tr:last-of-type th {\n",
       "        text-align: right;\n",
       "    }\n",
       "</style>\n",
       "<table border=\"1\" class=\"dataframe\">\n",
       "  <thead>\n",
       "    <tr>\n",
       "      <th></th>\n",
       "      <th colspan=\"7\" halign=\"left\">SPY</th>\n",
       "      <th colspan=\"7\" halign=\"left\">AGG</th>\n",
       "    </tr>\n",
       "    <tr>\n",
       "      <th></th>\n",
       "      <th>open</th>\n",
       "      <th>high</th>\n",
       "      <th>low</th>\n",
       "      <th>close</th>\n",
       "      <th>volume</th>\n",
       "      <th>trade_count</th>\n",
       "      <th>vwap</th>\n",
       "      <th>open</th>\n",
       "      <th>high</th>\n",
       "      <th>low</th>\n",
       "      <th>close</th>\n",
       "      <th>volume</th>\n",
       "      <th>trade_count</th>\n",
       "      <th>vwap</th>\n",
       "    </tr>\n",
       "    <tr>\n",
       "      <th>timestamp</th>\n",
       "      <th></th>\n",
       "      <th></th>\n",
       "      <th></th>\n",
       "      <th></th>\n",
       "      <th></th>\n",
       "      <th></th>\n",
       "      <th></th>\n",
       "      <th></th>\n",
       "      <th></th>\n",
       "      <th></th>\n",
       "      <th></th>\n",
       "      <th></th>\n",
       "      <th></th>\n",
       "      <th></th>\n",
       "    </tr>\n",
       "  </thead>\n",
       "  <tbody>\n",
       "    <tr>\n",
       "      <th>2022-11-09 05:00:00+00:00</th>\n",
       "      <td>379.93</td>\n",
       "      <td>381.14</td>\n",
       "      <td>373.61</td>\n",
       "      <td>374.13</td>\n",
       "      <td>77996412</td>\n",
       "      <td>589795</td>\n",
       "      <td>377.164224</td>\n",
       "      <td>94.39</td>\n",
       "      <td>94.7001</td>\n",
       "      <td>94.25</td>\n",
       "      <td>94.55</td>\n",
       "      <td>6661375</td>\n",
       "      <td>27653</td>\n",
       "      <td>94.495474</td>\n",
       "    </tr>\n",
       "  </tbody>\n",
       "</table>\n",
       "</div>"
      ],
      "text/plain": [
       "                              SPY                                    \\\n",
       "                             open    high     low   close    volume   \n",
       "timestamp                                                             \n",
       "2022-11-09 05:00:00+00:00  379.93  381.14  373.61  374.13  77996412   \n",
       "\n",
       "                                                     AGG                  \\\n",
       "                          trade_count        vwap   open     high    low   \n",
       "timestamp                                                                  \n",
       "2022-11-09 05:00:00+00:00      589795  377.164224  94.39  94.7001  94.25   \n",
       "\n",
       "                                                                  \n",
       "                           close   volume trade_count       vwap  \n",
       "timestamp                                                         \n",
       "2022-11-09 05:00:00+00:00  94.55  6661375       27653  94.495474  "
      ]
     },
     "execution_count": 20,
     "metadata": {},
     "output_type": "execute_result"
    }
   ],
   "source": [
    "# Use the Alpaca get_bars function to get current closing prices the portfolio\n",
    "# Be sure to set the `df` property after the function to format the response object as a DataFrame\n",
    "current_prices_df = alpaca.get_bars(\n",
    "    tickers,\n",
    "    timeframe,\n",
    "    start=start_date,\n",
    "    end=end_date\n",
    ").df\n",
    "\n",
    "# Reorganize the DataFrame\n",
    "# Separate ticker data\n",
    "spy_current_price = current_prices_df[current_prices_df['symbol'] == 'SPY'].drop('symbol', axis=1)\n",
    "agg_current_price = current_prices_df[current_prices_df['symbol'] == 'AGG'].drop('symbol', axis=1)\n",
    "\n",
    "# Concatenate the ticker DataFrames\n",
    "current_prices_df = pd.concat([spy_current_price, agg_current_price], axis=1, keys=['SPY', 'AGG'])\n",
    "\n",
    "# Review the first 5 rows of the Alpaca DataFrame\n",
    "current_prices_df.head()"
   ]
  },
  {
   "cell_type": "markdown",
   "metadata": {},
   "source": [
    "#### Step 5: Navigating the Alpaca response DataFrame, select the `SPY` and `AGG` closing prices, and store them as variables."
   ]
  },
  {
   "cell_type": "code",
   "execution_count": 22,
   "metadata": {},
   "outputs": [
    {
     "name": "stdout",
     "output_type": "stream",
     "text": [
      "Closing price for AGG: $94.55\n"
     ]
    }
   ],
   "source": [
    "# Access the closing price for AGG from the Alpaca DataFrame\n",
    "# Converting the value to a floating point number\n",
    "agg_close_price = float(current_prices_df['AGG']['close'])\n",
    "\n",
    "# Print the AGG closing price\n",
    "print(f'Closing price for AGG: ${agg_close_price:.2f}')"
   ]
  },
  {
   "cell_type": "code",
   "execution_count": 23,
   "metadata": {},
   "outputs": [
    {
     "name": "stdout",
     "output_type": "stream",
     "text": [
      "Closing price for SPY: $374.13\n"
     ]
    }
   ],
   "source": [
    "# Access the closing price for SPY from the Alpaca DataFrame\n",
    "# Converting the value to a floating point number\n",
    "spy_close_price = float(current_prices_df['SPY']['close'])\n",
    "\n",
    "# Print the SPY closing price\n",
    "print(f'Closing price for SPY: ${spy_close_price:.2f}')"
   ]
  },
  {
   "cell_type": "markdown",
   "metadata": {},
   "source": [
    "#### Step 6: Calculate the value, in US dollars, of the current amount of shares in each of the stock and bond portions of the portfolio, and print the results."
   ]
  },
  {
   "cell_type": "code",
   "execution_count": 24,
   "metadata": {},
   "outputs": [
    {
     "name": "stdout",
     "output_type": "stream",
     "text": [
      "Current value of the bond portfolio: $18910.00\n"
     ]
    }
   ],
   "source": [
    "# Calculate the current value of the bond portion of the portfolio\n",
    "agg_value = agg_shares * agg_close_price\n",
    "\n",
    "# Print the current value of the bond portfolio\n",
    "print(f'Current value of the bond portfolio: ${agg_value:.2f}')\n"
   ]
  },
  {
   "cell_type": "code",
   "execution_count": 25,
   "metadata": {},
   "outputs": [
    {
     "name": "stdout",
     "output_type": "stream",
     "text": [
      "Current value of the stock portfolio: $41154.30\n"
     ]
    }
   ],
   "source": [
    "# Calculate the current value of the stock portion of the portfolio\n",
    "spy_value = spy_shares * spy_close_price\n",
    "\n",
    "# Print the current value of the stock portfolio\n",
    "print(f'Current value of the stock portfolio: ${spy_value:.2f}')\n"
   ]
  },
  {
   "cell_type": "code",
   "execution_count": 26,
   "metadata": {},
   "outputs": [
    {
     "name": "stdout",
     "output_type": "stream",
     "text": [
      "Current balance of the stock and bond portion of the portfolio: $60064.30\n"
     ]
    }
   ],
   "source": [
    "# Calculate the total value of the stock and bond portion of the portfolio\n",
    "total_stocks_bonds = agg_value + spy_value\n",
    "\n",
    "# Print the current balance of the stock and bond portion of the portfolio\n",
    "print(f'Current balance of the stock and bond portion of the portfolio: ${total_stocks_bonds:.2f}')\n"
   ]
  },
  {
   "cell_type": "code",
   "execution_count": 27,
   "metadata": {},
   "outputs": [
    {
     "name": "stdout",
     "output_type": "stream",
     "text": [
      "Current total value of savings portfolio: $88112.25\n"
     ]
    }
   ],
   "source": [
    "# Calculate the total value of the member's entire savings portfolio\n",
    "# Add the value of the cryptocurrency walled to the value of the total stocks and bonds\n",
    "total_portfolio = total_crypto_wallet + total_stocks_bonds\n",
    "\n",
    "# Print total value of the member's entire savings portfolio\n",
    "print(f'Current total value of savings portfolio: ${total_portfolio:.2f}')\n"
   ]
  },
  {
   "cell_type": "markdown",
   "metadata": {},
   "source": [
    "### Evaluate the Emergency Fund\n",
    "\n",
    "In this section, you’ll use the valuations for the cryptocurrency wallet and for the stock and bond portions of the portfolio to determine if the credit union member has enough savings to build an emergency fund into their financial plan. To do this, complete the following steps:\n",
    "\n",
    "1. Create a Python list named `savings_data` that has two elements. The first element contains the total value of the cryptocurrency wallet. The second element contains the total value of the stock and bond portions of the portfolio.\n",
    "\n",
    "2. Use the `savings_data` list to create a Pandas DataFrame named `savings_df`, and then display this DataFrame. The function to create the DataFrame should take the following three parameters:\n",
    "\n",
    "    - `savings_data`: Use the list that you just created.\n",
    "\n",
    "    - `columns`: Set this parameter equal to a Python list with a single value called `amount`.\n",
    "\n",
    "    - `index`: Set this parameter equal to a Python list with the values of `crypto` and `stock/bond`.\n",
    "\n",
    "3. Use the `savings_df` DataFrame to plot a pie chart that visualizes the composition of the member’s portfolio. The y-axis of the pie chart uses `amount`. Be sure to add a title.\n",
    "\n",
    "4. Using Python, determine if the current portfolio has enough to create an emergency fund as part of the member’s financial plan. Ideally, an emergency fund should equal to three times the member’s monthly income. To do this, implement the following steps:\n",
    "\n",
    "    1. Create a variable named `emergency_fund_value`, and set it equal to three times the value of the member’s `monthly_income` of $12000. (You set this earlier in Part 1).\n",
    "\n",
    "    2. Create a series of three if statements to determine if the member’s total portfolio is large enough to fund the emergency portfolio:\n",
    "\n",
    "        1. If the total portfolio value is greater than the emergency fund value, display a message congratulating the member for having enough money in this fund.\n",
    "\n",
    "        2. Else if the total portfolio value is equal to the emergency fund value, display a message congratulating the member on reaching this important financial goal.\n",
    "\n",
    "        3. Else the total portfolio is less than the emergency fund value, so display a message showing how many dollars away the member is from reaching the goal. (Subtract the total portfolio value from the emergency fund value.)\n"
   ]
  },
  {
   "cell_type": "markdown",
   "metadata": {},
   "source": [
    "#### Step 1: Create a Python list named `savings_data` that has two elements. The first element contains the total value of the cryptocurrency wallet. The second element contains the total value of the stock and bond portions of the portfolio."
   ]
  },
  {
   "cell_type": "code",
   "execution_count": 29,
   "metadata": {},
   "outputs": [
    {
     "name": "stdout",
     "output_type": "stream",
     "text": [
      "[28047.947, 60064.3]\n"
     ]
    }
   ],
   "source": [
    "# Consolidate financial assets data into a Python list\n",
    "savings_data = [total_crypto_wallet, total_stocks_bonds]\n",
    "\n",
    "# Review the Python list savings_data\n",
    "print(savings_data)\n",
    "    "
   ]
  },
  {
   "cell_type": "markdown",
   "metadata": {},
   "source": [
    "#### Step 2: Use the `savings_data` list to create a Pandas DataFrame named `savings_df`, and then display this DataFrame. The function to create the DataFrame should take the following three parameters:\n",
    "\n",
    "- `savings_data`: Use the list that you just created.\n",
    "\n",
    "- `columns`: Set this parameter equal to a Python list with a single value called `amount`.\n",
    "\n",
    "- `index`: Set this parameter equal to a Python list with the values of `crypto` and `stock/bond`.\n"
   ]
  },
  {
   "cell_type": "code",
   "execution_count": 31,
   "metadata": {},
   "outputs": [
    {
     "data": {
      "text/html": [
       "<div>\n",
       "<style scoped>\n",
       "    .dataframe tbody tr th:only-of-type {\n",
       "        vertical-align: middle;\n",
       "    }\n",
       "\n",
       "    .dataframe tbody tr th {\n",
       "        vertical-align: top;\n",
       "    }\n",
       "\n",
       "    .dataframe thead th {\n",
       "        text-align: right;\n",
       "    }\n",
       "</style>\n",
       "<table border=\"1\" class=\"dataframe\">\n",
       "  <thead>\n",
       "    <tr style=\"text-align: right;\">\n",
       "      <th></th>\n",
       "      <th>amount</th>\n",
       "    </tr>\n",
       "  </thead>\n",
       "  <tbody>\n",
       "    <tr>\n",
       "      <th>crypto</th>\n",
       "      <td>28047.947</td>\n",
       "    </tr>\n",
       "    <tr>\n",
       "      <th>stock/bond</th>\n",
       "      <td>60064.300</td>\n",
       "    </tr>\n",
       "  </tbody>\n",
       "</table>\n",
       "</div>"
      ],
      "text/plain": [
       "               amount\n",
       "crypto      28047.947\n",
       "stock/bond  60064.300"
      ]
     },
     "metadata": {},
     "output_type": "display_data"
    }
   ],
   "source": [
    "# Create a Pandas DataFrame called savings_df \n",
    "savings_df = pd.DataFrame(savings_data, columns=['amount'], index=['crypto', 'stock/bond'])\n",
    "\n",
    "# Display the savings_df DataFrame\n",
    "display(savings_df)"
   ]
  },
  {
   "cell_type": "markdown",
   "metadata": {},
   "source": [
    "#### Step 3: Use the `savings_df` DataFrame to plot a pie chart that visualizes the composition of the member’s portfolio. The y-axis of the pie chart uses `amount`. Be sure to add a title."
   ]
  },
  {
   "cell_type": "code",
   "execution_count": 32,
   "metadata": {},
   "outputs": [
    {
     "data": {
      "text/plain": [
       "<AxesSubplot:title={'center':'Portfolio composition - 2022-11-09'}, ylabel='amount'>"
      ]
     },
     "execution_count": 32,
     "metadata": {},
     "output_type": "execute_result"
    },
    {
     "data": {
      "image/png": "[encoded data removed]",
      "text/plain": [
       "<Figure size 1080x504 with 1 Axes>"
      ]
     },
     "metadata": {},
     "output_type": "display_data"
    }
   ],
   "source": [
    "# Plot the total value of the member's portfolio (crypto and stock/bond) in a pie chart\n",
    "savings_df.plot.pie(y='amount', title='Portfolio composition - 2022-11-09', figsize=(15, 7))"
   ]
  },
  {
   "cell_type": "markdown",
   "metadata": {},
   "source": [
    "#### Step 4: Using Python, determine if the current portfolio has enough to create an emergency fund as part of the member’s financial plan. Ideally, an emergency fund should equal to three times the member’s monthly income. To do this, implement the following steps:\n",
    "\n",
    "Step 1. Create a variable named `emergency_fund_value`, and set it equal to three times the value of the member’s `monthly_income` of 12000. (You set this earlier in Part 1).\n",
    "\n",
    "Step 2. Create a series of three if statements to determine if the member’s total portfolio is large enough to fund the emergency portfolio:\n",
    "\n",
    "* If the total portfolio value is greater than the emergency fund value, display a message congratulating the member for having enough money in this fund.\n",
    "\n",
    "* Else if the total portfolio value is equal to the emergency fund value, display a message congratulating the member on reaching this important financial goal.\n",
    "\n",
    "* Else the total portfolio is less than the emergency fund value, so display a message showing how many dollars away the member is from reaching the goal. (Subtract the total portfolio value from the emergency fund value.)\n"
   ]
  },
  {
   "cell_type": "markdown",
   "metadata": {},
   "source": [
    "##### Step 4-1: Create a variable named `emergency_fund_value`, and set it equal to three times the value of the member’s `monthly_income` of 12000. (You set this earlier in Part 1)."
   ]
  },
  {
   "cell_type": "code",
   "execution_count": 33,
   "metadata": {},
   "outputs": [
    {
     "data": {
      "text/plain": [
       "36000"
      ]
     },
     "execution_count": 33,
     "metadata": {},
     "output_type": "execute_result"
    }
   ],
   "source": [
    "# Create a variable named emergency_fund_value\n",
    "emergency_fund_value = 3 * monthly_income\n",
    "emergency_fund_value"
   ]
  },
  {
   "cell_type": "markdown",
   "metadata": {},
   "source": [
    "##### Step 4-2: Create a series of three if statements to determine if the member’s total portfolio is large enough to fund the emergency portfolio:\n",
    "\n",
    "* If the total portfolio value is greater than the emergency fund value, display a message congratulating the member for having enough money in this fund.\n",
    "\n",
    "* Else if the total portfolio value is equal to the emergency fund value, display a message congratulating the member on reaching this important financial goal.\n",
    "\n",
    "* Else the total portfolio is less than the emergency fund value, so display a message showing how many dollars away the member is from reaching the goal. (Subtract the total portfolio value from the emergency fund value.)"
   ]
  },
  {
   "cell_type": "code",
   "execution_count": 36,
   "metadata": {},
   "outputs": [
    {
     "name": "stdout",
     "output_type": "stream",
     "text": [
      "Congratulations, your account has enough money to fund the emergency portfolio!\n",
      "Current portfolio value: $88112.25, emergency fund value needed: $36000\n"
     ]
    }
   ],
   "source": [
    "# Evaluate the possibility of creating an emergency fund with 3 conditions:\n",
    "if total_portfolio > emergency_fund_value:\n",
    "    print('Congratulations, your account has enough money to fund the emergency portfolio!')\n",
    "elif total_portfolio == emergency_fund_value:\n",
    "    print('Congratulations, your account you have reached the amount of money needed to start an emergency fund value!')\n",
    "else:\n",
    "    print(f'Your portfolio is ${(total_portfolio - emergency_fund_value):.2f} away from reaching the goal of having an emergency fund.')\n",
    "    \n",
    "print(f'Current portfolio value: ${total_portfolio:.2f}, emergency fund value needed: ${emergency_fund_value}')"
   ]
  },
  {
   "cell_type": "markdown",
   "metadata": {},
   "source": [
    "## Part 2: Create a Financial Planner for Retirement"
   ]
  },
  {
   "cell_type": "markdown",
   "metadata": {},
   "source": [
    "### Create the Monte Carlo Simulation\n",
    "\n",
    "In this section, you’ll use the MCForecastTools library to create a Monte Carlo simulation for the member’s savings portfolio. To do this, complete the following steps:\n",
    "\n",
    "1. Make an API call via the Alpaca SDK to get 3 years of historical closing prices for a traditional 60/40 portfolio split: 60% stocks (SPY) and 40% bonds (AGG).\n",
    "\n",
    "2. Run a Monte Carlo simulation of 500 samples and 30 years for the 60/40 portfolio, and then plot the results.The following image shows the overlay line plot resulting from a simulation with these characteristics. However, because a random number generator is used to run each live Monte Carlo simulation, your image will differ slightly from this exact image:\n",
    "\n",
    "![A screenshot depicts the resulting plot.](Images/5-4-monte-carlo-line-plot.png)\n",
    "\n",
    "3. Plot the probability distribution of the Monte Carlo simulation. Plot the probability distribution of the Monte Carlo simulation. The following image shows the histogram plot resulting from a simulation with these characteristics. However, because a random number generator is used to run each live Monte Carlo simulation, your image will differ slightly from this exact image:\n",
    "\n",
    "![A screenshot depicts the histogram plot.](Images/5-4-monte-carlo-histogram.png)\n",
    "\n",
    "4. Generate the summary statistics for the Monte Carlo simulation.\n",
    "\n"
   ]
  },
  {
   "cell_type": "markdown",
   "metadata": {},
   "source": [
    "#### Step 1: Make an API call via the Alpaca SDK to get 3 years of historical closing prices for a traditional 60/40 portfolio split: 60% stocks (SPY) and 40% bonds (AGG)."
   ]
  },
  {
   "cell_type": "code",
   "execution_count": 37,
   "metadata": {},
   "outputs": [],
   "source": [
    "# Set start and end dates of 3 years back from your current date\n",
    "# Alternatively, you can use an end date of 2020-08-07 and work 3 years back from that date \n",
    "three_years_start_date = pd.Timestamp('2019-11-09', tz='America/New_York').isoformat()\n",
    "three_years_end_date = pd.Timestamp('2022-11-09', tz='America/New_York').isoformat()"
   ]
  },
  {
   "cell_type": "code",
   "execution_count": 42,
   "metadata": {},
   "outputs": [
    {
     "data": {
      "text/html": [
       "<div>\n",
       "<style scoped>\n",
       "    .dataframe tbody tr th:only-of-type {\n",
       "        vertical-align: middle;\n",
       "    }\n",
       "\n",
       "    .dataframe tbody tr th {\n",
       "        vertical-align: top;\n",
       "    }\n",
       "\n",
       "    .dataframe thead tr th {\n",
       "        text-align: left;\n",
       "    }\n",
       "\n",
       "    .dataframe thead tr:last-of-type th {\n",
       "        text-align: right;\n",
       "    }\n",
       "</style>\n",
       "<table border=\"1\" class=\"dataframe\">\n",
       "  <thead>\n",
       "    <tr>\n",
       "      <th></th>\n",
       "      <th colspan=\"7\" halign=\"left\">SPY</th>\n",
       "      <th colspan=\"7\" halign=\"left\">AGG</th>\n",
       "    </tr>\n",
       "    <tr>\n",
       "      <th></th>\n",
       "      <th>open</th>\n",
       "      <th>high</th>\n",
       "      <th>low</th>\n",
       "      <th>close</th>\n",
       "      <th>volume</th>\n",
       "      <th>trade_count</th>\n",
       "      <th>vwap</th>\n",
       "      <th>open</th>\n",
       "      <th>high</th>\n",
       "      <th>low</th>\n",
       "      <th>close</th>\n",
       "      <th>volume</th>\n",
       "      <th>trade_count</th>\n",
       "      <th>vwap</th>\n",
       "    </tr>\n",
       "    <tr>\n",
       "      <th>timestamp</th>\n",
       "      <th></th>\n",
       "      <th></th>\n",
       "      <th></th>\n",
       "      <th></th>\n",
       "      <th></th>\n",
       "      <th></th>\n",
       "      <th></th>\n",
       "      <th></th>\n",
       "      <th></th>\n",
       "      <th></th>\n",
       "      <th></th>\n",
       "      <th></th>\n",
       "      <th></th>\n",
       "      <th></th>\n",
       "    </tr>\n",
       "  </thead>\n",
       "  <tbody>\n",
       "    <tr>\n",
       "      <th>2019-11-11 05:00:00+00:00</th>\n",
       "      <td>307.42</td>\n",
       "      <td>308.94</td>\n",
       "      <td>307.27</td>\n",
       "      <td>308.36</td>\n",
       "      <td>36857409</td>\n",
       "      <td>140063</td>\n",
       "      <td>308.174603</td>\n",
       "      <td>111.96</td>\n",
       "      <td>111.9600</td>\n",
       "      <td>111.7800</td>\n",
       "      <td>111.83</td>\n",
       "      <td>2112221</td>\n",
       "      <td>7718</td>\n",
       "      <td>111.841762</td>\n",
       "    </tr>\n",
       "    <tr>\n",
       "      <th>2019-11-12 05:00:00+00:00</th>\n",
       "      <td>308.75</td>\n",
       "      <td>309.99</td>\n",
       "      <td>307.70</td>\n",
       "      <td>308.96</td>\n",
       "      <td>46487524</td>\n",
       "      <td>208796</td>\n",
       "      <td>309.094331</td>\n",
       "      <td>111.92</td>\n",
       "      <td>112.0298</td>\n",
       "      <td>111.8000</td>\n",
       "      <td>111.95</td>\n",
       "      <td>2032870</td>\n",
       "      <td>9792</td>\n",
       "      <td>111.911632</td>\n",
       "    </tr>\n",
       "    <tr>\n",
       "      <th>2019-11-13 05:00:00+00:00</th>\n",
       "      <td>307.91</td>\n",
       "      <td>309.54</td>\n",
       "      <td>307.66</td>\n",
       "      <td>309.15</td>\n",
       "      <td>54813789</td>\n",
       "      <td>258612</td>\n",
       "      <td>308.889742</td>\n",
       "      <td>112.20</td>\n",
       "      <td>112.2300</td>\n",
       "      <td>112.0800</td>\n",
       "      <td>112.15</td>\n",
       "      <td>2598503</td>\n",
       "      <td>9639</td>\n",
       "      <td>112.162977</td>\n",
       "    </tr>\n",
       "    <tr>\n",
       "      <th>2019-11-14 05:00:00+00:00</th>\n",
       "      <td>308.79</td>\n",
       "      <td>309.64</td>\n",
       "      <td>308.09</td>\n",
       "      <td>309.54</td>\n",
       "      <td>52042374</td>\n",
       "      <td>197811</td>\n",
       "      <td>309.154768</td>\n",
       "      <td>112.50</td>\n",
       "      <td>112.5700</td>\n",
       "      <td>112.4337</td>\n",
       "      <td>112.47</td>\n",
       "      <td>2901272</td>\n",
       "      <td>10744</td>\n",
       "      <td>112.490172</td>\n",
       "    </tr>\n",
       "    <tr>\n",
       "      <th>2019-11-15 05:00:00+00:00</th>\n",
       "      <td>311.02</td>\n",
       "      <td>311.84</td>\n",
       "      <td>310.26</td>\n",
       "      <td>311.81</td>\n",
       "      <td>63017062</td>\n",
       "      <td>206158</td>\n",
       "      <td>311.224041</td>\n",
       "      <td>112.46</td>\n",
       "      <td>112.4600</td>\n",
       "      <td>112.3800</td>\n",
       "      <td>112.41</td>\n",
       "      <td>5578285</td>\n",
       "      <td>9762</td>\n",
       "      <td>112.412397</td>\n",
       "    </tr>\n",
       "  </tbody>\n",
       "</table>\n",
       "</div>"
      ],
      "text/plain": [
       "                              SPY                                    \\\n",
       "                             open    high     low   close    volume   \n",
       "timestamp                                                             \n",
       "2019-11-11 05:00:00+00:00  307.42  308.94  307.27  308.36  36857409   \n",
       "2019-11-12 05:00:00+00:00  308.75  309.99  307.70  308.96  46487524   \n",
       "2019-11-13 05:00:00+00:00  307.91  309.54  307.66  309.15  54813789   \n",
       "2019-11-14 05:00:00+00:00  308.79  309.64  308.09  309.54  52042374   \n",
       "2019-11-15 05:00:00+00:00  311.02  311.84  310.26  311.81  63017062   \n",
       "\n",
       "                                                      AGG                      \\\n",
       "                          trade_count        vwap    open      high       low   \n",
       "timestamp                                                                       \n",
       "2019-11-11 05:00:00+00:00      140063  308.174603  111.96  111.9600  111.7800   \n",
       "2019-11-12 05:00:00+00:00      208796  309.094331  111.92  112.0298  111.8000   \n",
       "2019-11-13 05:00:00+00:00      258612  308.889742  112.20  112.2300  112.0800   \n",
       "2019-11-14 05:00:00+00:00      197811  309.154768  112.50  112.5700  112.4337   \n",
       "2019-11-15 05:00:00+00:00      206158  311.224041  112.46  112.4600  112.3800   \n",
       "\n",
       "                                                                    \n",
       "                            close   volume trade_count        vwap  \n",
       "timestamp                                                           \n",
       "2019-11-11 05:00:00+00:00  111.83  2112221        7718  111.841762  \n",
       "2019-11-12 05:00:00+00:00  111.95  2032870        9792  111.911632  \n",
       "2019-11-13 05:00:00+00:00  112.15  2598503        9639  112.162977  \n",
       "2019-11-14 05:00:00+00:00  112.47  2901272       10744  112.490172  \n",
       "2019-11-15 05:00:00+00:00  112.41  5578285        9762  112.412397  "
      ]
     },
     "metadata": {},
     "output_type": "display_data"
    },
    {
     "data": {
      "text/html": [
       "<div>\n",
       "<style scoped>\n",
       "    .dataframe tbody tr th:only-of-type {\n",
       "        vertical-align: middle;\n",
       "    }\n",
       "\n",
       "    .dataframe tbody tr th {\n",
       "        vertical-align: top;\n",
       "    }\n",
       "\n",
       "    .dataframe thead tr th {\n",
       "        text-align: left;\n",
       "    }\n",
       "\n",
       "    .dataframe thead tr:last-of-type th {\n",
       "        text-align: right;\n",
       "    }\n",
       "</style>\n",
       "<table border=\"1\" class=\"dataframe\">\n",
       "  <thead>\n",
       "    <tr>\n",
       "      <th></th>\n",
       "      <th colspan=\"7\" halign=\"left\">SPY</th>\n",
       "      <th colspan=\"7\" halign=\"left\">AGG</th>\n",
       "    </tr>\n",
       "    <tr>\n",
       "      <th></th>\n",
       "      <th>open</th>\n",
       "      <th>high</th>\n",
       "      <th>low</th>\n",
       "      <th>close</th>\n",
       "      <th>volume</th>\n",
       "      <th>trade_count</th>\n",
       "      <th>vwap</th>\n",
       "      <th>open</th>\n",
       "      <th>high</th>\n",
       "      <th>low</th>\n",
       "      <th>close</th>\n",
       "      <th>volume</th>\n",
       "      <th>trade_count</th>\n",
       "      <th>vwap</th>\n",
       "    </tr>\n",
       "    <tr>\n",
       "      <th>timestamp</th>\n",
       "      <th></th>\n",
       "      <th></th>\n",
       "      <th></th>\n",
       "      <th></th>\n",
       "      <th></th>\n",
       "      <th></th>\n",
       "      <th></th>\n",
       "      <th></th>\n",
       "      <th></th>\n",
       "      <th></th>\n",
       "      <th></th>\n",
       "      <th></th>\n",
       "      <th></th>\n",
       "      <th></th>\n",
       "    </tr>\n",
       "  </thead>\n",
       "  <tbody>\n",
       "    <tr>\n",
       "      <th>2022-11-03 04:00:00+00:00</th>\n",
       "      <td>371.465</td>\n",
       "      <td>374.20</td>\n",
       "      <td>368.79</td>\n",
       "      <td>371.01</td>\n",
       "      <td>85657400</td>\n",
       "      <td>641406</td>\n",
       "      <td>372.172239</td>\n",
       "      <td>93.97</td>\n",
       "      <td>94.5050</td>\n",
       "      <td>93.93</td>\n",
       "      <td>94.35</td>\n",
       "      <td>9310830</td>\n",
       "      <td>31297</td>\n",
       "      <td>94.279681</td>\n",
       "    </tr>\n",
       "    <tr>\n",
       "      <th>2022-11-04 04:00:00+00:00</th>\n",
       "      <td>377.000</td>\n",
       "      <td>378.87</td>\n",
       "      <td>370.00</td>\n",
       "      <td>376.35</td>\n",
       "      <td>103253613</td>\n",
       "      <td>703500</td>\n",
       "      <td>374.233909</td>\n",
       "      <td>94.43</td>\n",
       "      <td>94.6400</td>\n",
       "      <td>94.17</td>\n",
       "      <td>94.34</td>\n",
       "      <td>6889829</td>\n",
       "      <td>22080</td>\n",
       "      <td>94.360954</td>\n",
       "    </tr>\n",
       "    <tr>\n",
       "      <th>2022-11-07 05:00:00+00:00</th>\n",
       "      <td>377.710</td>\n",
       "      <td>380.57</td>\n",
       "      <td>375.53</td>\n",
       "      <td>379.95</td>\n",
       "      <td>68127819</td>\n",
       "      <td>478350</td>\n",
       "      <td>378.306760</td>\n",
       "      <td>94.41</td>\n",
       "      <td>94.4600</td>\n",
       "      <td>94.03</td>\n",
       "      <td>94.04</td>\n",
       "      <td>7591092</td>\n",
       "      <td>23399</td>\n",
       "      <td>94.152720</td>\n",
       "    </tr>\n",
       "    <tr>\n",
       "      <th>2022-11-08 05:00:00+00:00</th>\n",
       "      <td>381.110</td>\n",
       "      <td>385.12</td>\n",
       "      <td>377.72</td>\n",
       "      <td>382.00</td>\n",
       "      <td>84098301</td>\n",
       "      <td>598556</td>\n",
       "      <td>381.930966</td>\n",
       "      <td>94.24</td>\n",
       "      <td>94.6099</td>\n",
       "      <td>94.22</td>\n",
       "      <td>94.44</td>\n",
       "      <td>5642274</td>\n",
       "      <td>21092</td>\n",
       "      <td>94.463230</td>\n",
       "    </tr>\n",
       "    <tr>\n",
       "      <th>2022-11-09 05:00:00+00:00</th>\n",
       "      <td>379.930</td>\n",
       "      <td>381.14</td>\n",
       "      <td>373.61</td>\n",
       "      <td>374.13</td>\n",
       "      <td>77996412</td>\n",
       "      <td>589795</td>\n",
       "      <td>377.164224</td>\n",
       "      <td>94.39</td>\n",
       "      <td>94.7001</td>\n",
       "      <td>94.25</td>\n",
       "      <td>94.55</td>\n",
       "      <td>6661375</td>\n",
       "      <td>27653</td>\n",
       "      <td>94.495474</td>\n",
       "    </tr>\n",
       "  </tbody>\n",
       "</table>\n",
       "</div>"
      ],
      "text/plain": [
       "                               SPY                                     \\\n",
       "                              open    high     low   close     volume   \n",
       "timestamp                                                               \n",
       "2022-11-03 04:00:00+00:00  371.465  374.20  368.79  371.01   85657400   \n",
       "2022-11-04 04:00:00+00:00  377.000  378.87  370.00  376.35  103253613   \n",
       "2022-11-07 05:00:00+00:00  377.710  380.57  375.53  379.95   68127819   \n",
       "2022-11-08 05:00:00+00:00  381.110  385.12  377.72  382.00   84098301   \n",
       "2022-11-09 05:00:00+00:00  379.930  381.14  373.61  374.13   77996412   \n",
       "\n",
       "                                                     AGG                  \\\n",
       "                          trade_count        vwap   open     high    low   \n",
       "timestamp                                                                  \n",
       "2022-11-03 04:00:00+00:00      641406  372.172239  93.97  94.5050  93.93   \n",
       "2022-11-04 04:00:00+00:00      703500  374.233909  94.43  94.6400  94.17   \n",
       "2022-11-07 05:00:00+00:00      478350  378.306760  94.41  94.4600  94.03   \n",
       "2022-11-08 05:00:00+00:00      598556  381.930966  94.24  94.6099  94.22   \n",
       "2022-11-09 05:00:00+00:00      589795  377.164224  94.39  94.7001  94.25   \n",
       "\n",
       "                                                                  \n",
       "                           close   volume trade_count       vwap  \n",
       "timestamp                                                         \n",
       "2022-11-03 04:00:00+00:00  94.35  9310830       31297  94.279681  \n",
       "2022-11-04 04:00:00+00:00  94.34  6889829       22080  94.360954  \n",
       "2022-11-07 05:00:00+00:00  94.04  7591092       23399  94.152720  \n",
       "2022-11-08 05:00:00+00:00  94.44  5642274       21092  94.463230  \n",
       "2022-11-09 05:00:00+00:00  94.55  6661375       27653  94.495474  "
      ]
     },
     "metadata": {},
     "output_type": "display_data"
    }
   ],
   "source": [
    "# Use the Alpaca get_bars function to make the API call to get the 3 years worth of pricing data\n",
    "# The tickers and timeframe parameters should have been set in Part 1 of this activity \n",
    "# The start and end dates should be updated with the information set above\n",
    "# Remember to add the df property to the end of the call so the response is returned as a DataFrame\n",
    "three_years_prices_df = alpaca.get_bars(\n",
    "    tickers,\n",
    "    timeframe,\n",
    "    start=three_years_start_date,\n",
    "    end=three_years_end_date\n",
    ").df\n",
    "\n",
    "# Reorganize the DataFrame\n",
    "spy_three_years = three_years_prices_df[three_years_prices_df['symbol'] == 'SPY'].drop('symbol', axis=1)\n",
    "agg_three_years = three_years_prices_df[three_years_prices_df['symbol'] == 'AGG'].drop('symbol', axis=1)\n",
    "\n",
    "# Concatenate the ticker DataFrames\n",
    "three_years_prices_df = pd.concat([spy_three_years, agg_three_years], axis=1, keys=['SPY', 'AGG'])\n",
    "\n",
    "# Display both the first and last five rows of the DataFrame\n",
    "display(three_years_prices_df.head())\n",
    "display(three_years_prices_df.tail())\n"
   ]
  },
  {
   "cell_type": "markdown",
   "metadata": {},
   "source": [
    "#### Step 2: Run a Monte Carlo simulation of 500 samples and 30 years for the 60/40 portfolio, and then plot the results."
   ]
  },
  {
   "cell_type": "code",
   "execution_count": 44,
   "metadata": {},
   "outputs": [
    {
     "data": {
      "text/html": [
       "<div>\n",
       "<style scoped>\n",
       "    .dataframe tbody tr th:only-of-type {\n",
       "        vertical-align: middle;\n",
       "    }\n",
       "\n",
       "    .dataframe tbody tr th {\n",
       "        vertical-align: top;\n",
       "    }\n",
       "\n",
       "    .dataframe thead tr th {\n",
       "        text-align: left;\n",
       "    }\n",
       "\n",
       "    .dataframe thead tr:last-of-type th {\n",
       "        text-align: right;\n",
       "    }\n",
       "</style>\n",
       "<table border=\"1\" class=\"dataframe\">\n",
       "  <thead>\n",
       "    <tr>\n",
       "      <th></th>\n",
       "      <th colspan=\"8\" halign=\"left\">SPY</th>\n",
       "      <th colspan=\"8\" halign=\"left\">AGG</th>\n",
       "    </tr>\n",
       "    <tr>\n",
       "      <th></th>\n",
       "      <th>open</th>\n",
       "      <th>high</th>\n",
       "      <th>low</th>\n",
       "      <th>close</th>\n",
       "      <th>volume</th>\n",
       "      <th>trade_count</th>\n",
       "      <th>vwap</th>\n",
       "      <th>daily_return</th>\n",
       "      <th>open</th>\n",
       "      <th>high</th>\n",
       "      <th>low</th>\n",
       "      <th>close</th>\n",
       "      <th>volume</th>\n",
       "      <th>trade_count</th>\n",
       "      <th>vwap</th>\n",
       "      <th>daily_return</th>\n",
       "    </tr>\n",
       "    <tr>\n",
       "      <th>timestamp</th>\n",
       "      <th></th>\n",
       "      <th></th>\n",
       "      <th></th>\n",
       "      <th></th>\n",
       "      <th></th>\n",
       "      <th></th>\n",
       "      <th></th>\n",
       "      <th></th>\n",
       "      <th></th>\n",
       "      <th></th>\n",
       "      <th></th>\n",
       "      <th></th>\n",
       "      <th></th>\n",
       "      <th></th>\n",
       "      <th></th>\n",
       "      <th></th>\n",
       "    </tr>\n",
       "  </thead>\n",
       "  <tbody>\n",
       "    <tr>\n",
       "      <th>2019-11-11 05:00:00+00:00</th>\n",
       "      <td>307.42</td>\n",
       "      <td>308.94</td>\n",
       "      <td>307.27</td>\n",
       "      <td>308.36</td>\n",
       "      <td>36857409</td>\n",
       "      <td>140063</td>\n",
       "      <td>308.174603</td>\n",
       "      <td>NaN</td>\n",
       "      <td>111.96</td>\n",
       "      <td>111.9600</td>\n",
       "      <td>111.7800</td>\n",
       "      <td>111.83</td>\n",
       "      <td>2112221</td>\n",
       "      <td>7718</td>\n",
       "      <td>111.841762</td>\n",
       "      <td>NaN</td>\n",
       "    </tr>\n",
       "    <tr>\n",
       "      <th>2019-11-12 05:00:00+00:00</th>\n",
       "      <td>308.75</td>\n",
       "      <td>309.99</td>\n",
       "      <td>307.70</td>\n",
       "      <td>308.96</td>\n",
       "      <td>46487524</td>\n",
       "      <td>208796</td>\n",
       "      <td>309.094331</td>\n",
       "      <td>0.001946</td>\n",
       "      <td>111.92</td>\n",
       "      <td>112.0298</td>\n",
       "      <td>111.8000</td>\n",
       "      <td>111.95</td>\n",
       "      <td>2032870</td>\n",
       "      <td>9792</td>\n",
       "      <td>111.911632</td>\n",
       "      <td>0.001073</td>\n",
       "    </tr>\n",
       "    <tr>\n",
       "      <th>2019-11-13 05:00:00+00:00</th>\n",
       "      <td>307.91</td>\n",
       "      <td>309.54</td>\n",
       "      <td>307.66</td>\n",
       "      <td>309.15</td>\n",
       "      <td>54813789</td>\n",
       "      <td>258612</td>\n",
       "      <td>308.889742</td>\n",
       "      <td>0.000615</td>\n",
       "      <td>112.20</td>\n",
       "      <td>112.2300</td>\n",
       "      <td>112.0800</td>\n",
       "      <td>112.15</td>\n",
       "      <td>2598503</td>\n",
       "      <td>9639</td>\n",
       "      <td>112.162977</td>\n",
       "      <td>0.001787</td>\n",
       "    </tr>\n",
       "    <tr>\n",
       "      <th>2019-11-14 05:00:00+00:00</th>\n",
       "      <td>308.79</td>\n",
       "      <td>309.64</td>\n",
       "      <td>308.09</td>\n",
       "      <td>309.54</td>\n",
       "      <td>52042374</td>\n",
       "      <td>197811</td>\n",
       "      <td>309.154768</td>\n",
       "      <td>0.001262</td>\n",
       "      <td>112.50</td>\n",
       "      <td>112.5700</td>\n",
       "      <td>112.4337</td>\n",
       "      <td>112.47</td>\n",
       "      <td>2901272</td>\n",
       "      <td>10744</td>\n",
       "      <td>112.490172</td>\n",
       "      <td>0.002853</td>\n",
       "    </tr>\n",
       "    <tr>\n",
       "      <th>2019-11-15 05:00:00+00:00</th>\n",
       "      <td>311.02</td>\n",
       "      <td>311.84</td>\n",
       "      <td>310.26</td>\n",
       "      <td>311.81</td>\n",
       "      <td>63017062</td>\n",
       "      <td>206158</td>\n",
       "      <td>311.224041</td>\n",
       "      <td>0.007333</td>\n",
       "      <td>112.46</td>\n",
       "      <td>112.4600</td>\n",
       "      <td>112.3800</td>\n",
       "      <td>112.41</td>\n",
       "      <td>5578285</td>\n",
       "      <td>9762</td>\n",
       "      <td>112.412397</td>\n",
       "      <td>-0.000533</td>\n",
       "    </tr>\n",
       "  </tbody>\n",
       "</table>\n",
       "</div>"
      ],
      "text/plain": [
       "                              SPY                                    \\\n",
       "                             open    high     low   close    volume   \n",
       "timestamp                                                             \n",
       "2019-11-11 05:00:00+00:00  307.42  308.94  307.27  308.36  36857409   \n",
       "2019-11-12 05:00:00+00:00  308.75  309.99  307.70  308.96  46487524   \n",
       "2019-11-13 05:00:00+00:00  307.91  309.54  307.66  309.15  54813789   \n",
       "2019-11-14 05:00:00+00:00  308.79  309.64  308.09  309.54  52042374   \n",
       "2019-11-15 05:00:00+00:00  311.02  311.84  310.26  311.81  63017062   \n",
       "\n",
       "                                                                   AGG  \\\n",
       "                          trade_count        vwap daily_return    open   \n",
       "timestamp                                                                \n",
       "2019-11-11 05:00:00+00:00      140063  308.174603          NaN  111.96   \n",
       "2019-11-12 05:00:00+00:00      208796  309.094331     0.001946  111.92   \n",
       "2019-11-13 05:00:00+00:00      258612  308.889742     0.000615  112.20   \n",
       "2019-11-14 05:00:00+00:00      197811  309.154768     0.001262  112.50   \n",
       "2019-11-15 05:00:00+00:00      206158  311.224041     0.007333  112.46   \n",
       "\n",
       "                                                                            \\\n",
       "                               high       low   close   volume trade_count   \n",
       "timestamp                                                                    \n",
       "2019-11-11 05:00:00+00:00  111.9600  111.7800  111.83  2112221        7718   \n",
       "2019-11-12 05:00:00+00:00  112.0298  111.8000  111.95  2032870        9792   \n",
       "2019-11-13 05:00:00+00:00  112.2300  112.0800  112.15  2598503        9639   \n",
       "2019-11-14 05:00:00+00:00  112.5700  112.4337  112.47  2901272       10744   \n",
       "2019-11-15 05:00:00+00:00  112.4600  112.3800  112.41  5578285        9762   \n",
       "\n",
       "                                                    \n",
       "                                 vwap daily_return  \n",
       "timestamp                                           \n",
       "2019-11-11 05:00:00+00:00  111.841762          NaN  \n",
       "2019-11-12 05:00:00+00:00  111.911632     0.001073  \n",
       "2019-11-13 05:00:00+00:00  112.162977     0.001787  \n",
       "2019-11-14 05:00:00+00:00  112.490172     0.002853  \n",
       "2019-11-15 05:00:00+00:00  112.412397    -0.000533  "
      ]
     },
     "metadata": {},
     "output_type": "display_data"
    },
    {
     "data": {
      "text/html": [
       "<div>\n",
       "<style scoped>\n",
       "    .dataframe tbody tr th:only-of-type {\n",
       "        vertical-align: middle;\n",
       "    }\n",
       "\n",
       "    .dataframe tbody tr th {\n",
       "        vertical-align: top;\n",
       "    }\n",
       "\n",
       "    .dataframe thead tr th {\n",
       "        text-align: left;\n",
       "    }\n",
       "\n",
       "    .dataframe thead tr:last-of-type th {\n",
       "        text-align: right;\n",
       "    }\n",
       "</style>\n",
       "<table border=\"1\" class=\"dataframe\">\n",
       "  <thead>\n",
       "    <tr>\n",
       "      <th></th>\n",
       "      <th colspan=\"8\" halign=\"left\">SPY</th>\n",
       "      <th colspan=\"8\" halign=\"left\">AGG</th>\n",
       "    </tr>\n",
       "    <tr>\n",
       "      <th></th>\n",
       "      <th>open</th>\n",
       "      <th>high</th>\n",
       "      <th>low</th>\n",
       "      <th>close</th>\n",
       "      <th>volume</th>\n",
       "      <th>trade_count</th>\n",
       "      <th>vwap</th>\n",
       "      <th>daily_return</th>\n",
       "      <th>open</th>\n",
       "      <th>high</th>\n",
       "      <th>low</th>\n",
       "      <th>close</th>\n",
       "      <th>volume</th>\n",
       "      <th>trade_count</th>\n",
       "      <th>vwap</th>\n",
       "      <th>daily_return</th>\n",
       "    </tr>\n",
       "    <tr>\n",
       "      <th>timestamp</th>\n",
       "      <th></th>\n",
       "      <th></th>\n",
       "      <th></th>\n",
       "      <th></th>\n",
       "      <th></th>\n",
       "      <th></th>\n",
       "      <th></th>\n",
       "      <th></th>\n",
       "      <th></th>\n",
       "      <th></th>\n",
       "      <th></th>\n",
       "      <th></th>\n",
       "      <th></th>\n",
       "      <th></th>\n",
       "      <th></th>\n",
       "      <th></th>\n",
       "    </tr>\n",
       "  </thead>\n",
       "  <tbody>\n",
       "    <tr>\n",
       "      <th>2022-11-03 04:00:00+00:00</th>\n",
       "      <td>371.465</td>\n",
       "      <td>374.20</td>\n",
       "      <td>368.79</td>\n",
       "      <td>371.01</td>\n",
       "      <td>85657400</td>\n",
       "      <td>641406</td>\n",
       "      <td>372.172239</td>\n",
       "      <td>-0.010297</td>\n",
       "      <td>93.97</td>\n",
       "      <td>94.5050</td>\n",
       "      <td>93.93</td>\n",
       "      <td>94.35</td>\n",
       "      <td>9310830</td>\n",
       "      <td>31297</td>\n",
       "      <td>94.279681</td>\n",
       "      <td>-0.003696</td>\n",
       "    </tr>\n",
       "    <tr>\n",
       "      <th>2022-11-04 04:00:00+00:00</th>\n",
       "      <td>377.000</td>\n",
       "      <td>378.87</td>\n",
       "      <td>370.00</td>\n",
       "      <td>376.35</td>\n",
       "      <td>103253613</td>\n",
       "      <td>703500</td>\n",
       "      <td>374.233909</td>\n",
       "      <td>0.014393</td>\n",
       "      <td>94.43</td>\n",
       "      <td>94.6400</td>\n",
       "      <td>94.17</td>\n",
       "      <td>94.34</td>\n",
       "      <td>6889829</td>\n",
       "      <td>22080</td>\n",
       "      <td>94.360954</td>\n",
       "      <td>-0.000106</td>\n",
       "    </tr>\n",
       "    <tr>\n",
       "      <th>2022-11-07 05:00:00+00:00</th>\n",
       "      <td>377.710</td>\n",
       "      <td>380.57</td>\n",
       "      <td>375.53</td>\n",
       "      <td>379.95</td>\n",
       "      <td>68127819</td>\n",
       "      <td>478350</td>\n",
       "      <td>378.306760</td>\n",
       "      <td>0.009566</td>\n",
       "      <td>94.41</td>\n",
       "      <td>94.4600</td>\n",
       "      <td>94.03</td>\n",
       "      <td>94.04</td>\n",
       "      <td>7591092</td>\n",
       "      <td>23399</td>\n",
       "      <td>94.152720</td>\n",
       "      <td>-0.003180</td>\n",
       "    </tr>\n",
       "    <tr>\n",
       "      <th>2022-11-08 05:00:00+00:00</th>\n",
       "      <td>381.110</td>\n",
       "      <td>385.12</td>\n",
       "      <td>377.72</td>\n",
       "      <td>382.00</td>\n",
       "      <td>84098301</td>\n",
       "      <td>598556</td>\n",
       "      <td>381.930966</td>\n",
       "      <td>0.005395</td>\n",
       "      <td>94.24</td>\n",
       "      <td>94.6099</td>\n",
       "      <td>94.22</td>\n",
       "      <td>94.44</td>\n",
       "      <td>5642274</td>\n",
       "      <td>21092</td>\n",
       "      <td>94.463230</td>\n",
       "      <td>0.004254</td>\n",
       "    </tr>\n",
       "    <tr>\n",
       "      <th>2022-11-09 05:00:00+00:00</th>\n",
       "      <td>379.930</td>\n",
       "      <td>381.14</td>\n",
       "      <td>373.61</td>\n",
       "      <td>374.13</td>\n",
       "      <td>77996412</td>\n",
       "      <td>589795</td>\n",
       "      <td>377.164224</td>\n",
       "      <td>-0.020602</td>\n",
       "      <td>94.39</td>\n",
       "      <td>94.7001</td>\n",
       "      <td>94.25</td>\n",
       "      <td>94.55</td>\n",
       "      <td>6661375</td>\n",
       "      <td>27653</td>\n",
       "      <td>94.495474</td>\n",
       "      <td>0.001165</td>\n",
       "    </tr>\n",
       "  </tbody>\n",
       "</table>\n",
       "</div>"
      ],
      "text/plain": [
       "                               SPY                                     \\\n",
       "                              open    high     low   close     volume   \n",
       "timestamp                                                               \n",
       "2022-11-03 04:00:00+00:00  371.465  374.20  368.79  371.01   85657400   \n",
       "2022-11-04 04:00:00+00:00  377.000  378.87  370.00  376.35  103253613   \n",
       "2022-11-07 05:00:00+00:00  377.710  380.57  375.53  379.95   68127819   \n",
       "2022-11-08 05:00:00+00:00  381.110  385.12  377.72  382.00   84098301   \n",
       "2022-11-09 05:00:00+00:00  379.930  381.14  373.61  374.13   77996412   \n",
       "\n",
       "                                                                  AGG  \\\n",
       "                          trade_count        vwap daily_return   open   \n",
       "timestamp                                                               \n",
       "2022-11-03 04:00:00+00:00      641406  372.172239    -0.010297  93.97   \n",
       "2022-11-04 04:00:00+00:00      703500  374.233909     0.014393  94.43   \n",
       "2022-11-07 05:00:00+00:00      478350  378.306760     0.009566  94.41   \n",
       "2022-11-08 05:00:00+00:00      598556  381.930966     0.005395  94.24   \n",
       "2022-11-09 05:00:00+00:00      589795  377.164224    -0.020602  94.39   \n",
       "\n",
       "                                                                       \\\n",
       "                              high    low  close   volume trade_count   \n",
       "timestamp                                                               \n",
       "2022-11-03 04:00:00+00:00  94.5050  93.93  94.35  9310830       31297   \n",
       "2022-11-04 04:00:00+00:00  94.6400  94.17  94.34  6889829       22080   \n",
       "2022-11-07 05:00:00+00:00  94.4600  94.03  94.04  7591092       23399   \n",
       "2022-11-08 05:00:00+00:00  94.6099  94.22  94.44  5642274       21092   \n",
       "2022-11-09 05:00:00+00:00  94.7001  94.25  94.55  6661375       27653   \n",
       "\n",
       "                                                   \n",
       "                                vwap daily_return  \n",
       "timestamp                                          \n",
       "2022-11-03 04:00:00+00:00  94.279681    -0.003696  \n",
       "2022-11-04 04:00:00+00:00  94.360954    -0.000106  \n",
       "2022-11-07 05:00:00+00:00  94.152720    -0.003180  \n",
       "2022-11-08 05:00:00+00:00  94.463230     0.004254  \n",
       "2022-11-09 05:00:00+00:00  94.495474     0.001165  "
      ]
     },
     "metadata": {},
     "output_type": "display_data"
    }
   ],
   "source": [
    "# Configure the Monte Carlo simulation to forecast 30 years cumulative returns\n",
    "# The weights should be split 40% to AGG and 60% to SPY.\n",
    "# Run 500 samples.\n",
    "mc_40bonds_60stocks = MCSimulation(\n",
    "    portfolio_data=three_years_prices_df,\n",
    "    weights=[.60, .40],\n",
    "    num_simulation=500,\n",
    "    num_trading_days=252*30\n",
    ")\n",
    "\n",
    "# Review the simulation input data\n",
    "display(mc_40bonds_60stocks.portfolio_data.head())\n",
    "display(mc_40bonds_60stocks.portfolio_data.tail())"
   ]
  },
  {
   "cell_type": "code",
   "execution_count": 45,
   "metadata": {},
   "outputs": [
    {
     "name": "stdout",
     "output_type": "stream",
     "text": [
      "Running Monte Carlo simulation number 0.\n",
      "Running Monte Carlo simulation number 10.\n",
      "Running Monte Carlo simulation number 20.\n",
      "Running Monte Carlo simulation number 30.\n",
      "Running Monte Carlo simulation number 40.\n",
      "Running Monte Carlo simulation number 50.\n",
      "Running Monte Carlo simulation number 60.\n",
      "Running Monte Carlo simulation number 70.\n",
      "Running Monte Carlo simulation number 80.\n",
      "Running Monte Carlo simulation number 90.\n",
      "Running Monte Carlo simulation number 100.\n"
     ]
    },
    {
     "name": "stderr",
     "output_type": "stream",
     "text": [
      "/Users/ethansilvas/Projects/financial-planning-forecaster/MCForecastTools.py:117: PerformanceWarning: DataFrame is highly fragmented.  This is usually the result of calling `frame.insert` many times, which has poor performance.  Consider joining all columns at once using pd.concat(axis=1) instead.  To get a de-fragmented frame, use `newframe = frame.copy()`\n",
      "  portfolio_cumulative_returns[n] = (1 + sim_df.fillna(0)).cumprod()\n"
     ]
    },
    {
     "name": "stdout",
     "output_type": "stream",
     "text": [
      "Running Monte Carlo simulation number 110.\n",
      "Running Monte Carlo simulation number 120.\n",
      "Running Monte Carlo simulation number 130.\n",
      "Running Monte Carlo simulation number 140.\n",
      "Running Monte Carlo simulation number 150.\n",
      "Running Monte Carlo simulation number 160.\n",
      "Running Monte Carlo simulation number 170.\n",
      "Running Monte Carlo simulation number 180.\n",
      "Running Monte Carlo simulation number 190.\n",
      "Running Monte Carlo simulation number 200.\n",
      "Running Monte Carlo simulation number 210.\n",
      "Running Monte Carlo simulation number 220.\n",
      "Running Monte Carlo simulation number 230.\n",
      "Running Monte Carlo simulation number 240.\n",
      "Running Monte Carlo simulation number 250.\n",
      "Running Monte Carlo simulation number 260.\n",
      "Running Monte Carlo simulation number 270.\n",
      "Running Monte Carlo simulation number 280.\n",
      "Running Monte Carlo simulation number 290.\n",
      "Running Monte Carlo simulation number 300.\n",
      "Running Monte Carlo simulation number 310.\n",
      "Running Monte Carlo simulation number 320.\n",
      "Running Monte Carlo simulation number 330.\n",
      "Running Monte Carlo simulation number 340.\n",
      "Running Monte Carlo simulation number 350.\n",
      "Running Monte Carlo simulation number 360.\n",
      "Running Monte Carlo simulation number 370.\n",
      "Running Monte Carlo simulation number 380.\n",
      "Running Monte Carlo simulation number 390.\n",
      "Running Monte Carlo simulation number 400.\n",
      "Running Monte Carlo simulation number 410.\n",
      "Running Monte Carlo simulation number 420.\n",
      "Running Monte Carlo simulation number 430.\n",
      "Running Monte Carlo simulation number 440.\n",
      "Running Monte Carlo simulation number 450.\n",
      "Running Monte Carlo simulation number 460.\n",
      "Running Monte Carlo simulation number 470.\n",
      "Running Monte Carlo simulation number 480.\n",
      "Running Monte Carlo simulation number 490.\n"
     ]
    },
    {
     "data": {
      "text/html": [
       "<div>\n",
       "<style scoped>\n",
       "    .dataframe tbody tr th:only-of-type {\n",
       "        vertical-align: middle;\n",
       "    }\n",
       "\n",
       "    .dataframe tbody tr th {\n",
       "        vertical-align: top;\n",
       "    }\n",
       "\n",
       "    .dataframe thead th {\n",
       "        text-align: right;\n",
       "    }\n",
       "</style>\n",
       "<table border=\"1\" class=\"dataframe\">\n",
       "  <thead>\n",
       "    <tr style=\"text-align: right;\">\n",
       "      <th></th>\n",
       "      <th>0</th>\n",
       "      <th>1</th>\n",
       "      <th>2</th>\n",
       "      <th>3</th>\n",
       "      <th>4</th>\n",
       "      <th>5</th>\n",
       "      <th>6</th>\n",
       "      <th>7</th>\n",
       "      <th>8</th>\n",
       "      <th>9</th>\n",
       "      <th>...</th>\n",
       "      <th>490</th>\n",
       "      <th>491</th>\n",
       "      <th>492</th>\n",
       "      <th>493</th>\n",
       "      <th>494</th>\n",
       "      <th>495</th>\n",
       "      <th>496</th>\n",
       "      <th>497</th>\n",
       "      <th>498</th>\n",
       "      <th>499</th>\n",
       "    </tr>\n",
       "  </thead>\n",
       "  <tbody>\n",
       "    <tr>\n",
       "      <th>0</th>\n",
       "      <td>1.000000</td>\n",
       "      <td>1.000000</td>\n",
       "      <td>1.000000</td>\n",
       "      <td>1.000000</td>\n",
       "      <td>1.000000</td>\n",
       "      <td>1.000000</td>\n",
       "      <td>1.000000</td>\n",
       "      <td>1.000000</td>\n",
       "      <td>1.000000</td>\n",
       "      <td>1.000000</td>\n",
       "      <td>...</td>\n",
       "      <td>1.000000</td>\n",
       "      <td>1.000000</td>\n",
       "      <td>1.000000</td>\n",
       "      <td>1.000000</td>\n",
       "      <td>1.000000</td>\n",
       "      <td>1.000000</td>\n",
       "      <td>1.000000</td>\n",
       "      <td>1.000000</td>\n",
       "      <td>1.000000</td>\n",
       "      <td>1.000000</td>\n",
       "    </tr>\n",
       "    <tr>\n",
       "      <th>1</th>\n",
       "      <td>0.986443</td>\n",
       "      <td>0.981734</td>\n",
       "      <td>1.003919</td>\n",
       "      <td>1.001220</td>\n",
       "      <td>0.992150</td>\n",
       "      <td>1.023593</td>\n",
       "      <td>1.009534</td>\n",
       "      <td>1.003563</td>\n",
       "      <td>0.992221</td>\n",
       "      <td>1.009098</td>\n",
       "      <td>...</td>\n",
       "      <td>0.992625</td>\n",
       "      <td>1.006112</td>\n",
       "      <td>1.005102</td>\n",
       "      <td>0.998744</td>\n",
       "      <td>1.003838</td>\n",
       "      <td>0.987468</td>\n",
       "      <td>1.014697</td>\n",
       "      <td>1.012155</td>\n",
       "      <td>0.983917</td>\n",
       "      <td>0.992721</td>\n",
       "    </tr>\n",
       "    <tr>\n",
       "      <th>2</th>\n",
       "      <td>0.973315</td>\n",
       "      <td>0.986919</td>\n",
       "      <td>1.021829</td>\n",
       "      <td>1.008495</td>\n",
       "      <td>1.004227</td>\n",
       "      <td>1.003162</td>\n",
       "      <td>1.029075</td>\n",
       "      <td>0.986015</td>\n",
       "      <td>0.990893</td>\n",
       "      <td>1.008441</td>\n",
       "      <td>...</td>\n",
       "      <td>0.987595</td>\n",
       "      <td>1.008779</td>\n",
       "      <td>1.004810</td>\n",
       "      <td>0.991436</td>\n",
       "      <td>1.008199</td>\n",
       "      <td>0.989142</td>\n",
       "      <td>1.032748</td>\n",
       "      <td>1.011510</td>\n",
       "      <td>0.981311</td>\n",
       "      <td>1.001988</td>\n",
       "    </tr>\n",
       "    <tr>\n",
       "      <th>3</th>\n",
       "      <td>0.961793</td>\n",
       "      <td>0.988038</td>\n",
       "      <td>1.016353</td>\n",
       "      <td>1.016739</td>\n",
       "      <td>1.010510</td>\n",
       "      <td>0.977981</td>\n",
       "      <td>1.027447</td>\n",
       "      <td>0.980028</td>\n",
       "      <td>0.979880</td>\n",
       "      <td>1.008266</td>\n",
       "      <td>...</td>\n",
       "      <td>0.980760</td>\n",
       "      <td>1.006338</td>\n",
       "      <td>1.009820</td>\n",
       "      <td>0.986345</td>\n",
       "      <td>1.004726</td>\n",
       "      <td>0.987583</td>\n",
       "      <td>1.022814</td>\n",
       "      <td>0.992096</td>\n",
       "      <td>0.975189</td>\n",
       "      <td>1.007672</td>\n",
       "    </tr>\n",
       "    <tr>\n",
       "      <th>4</th>\n",
       "      <td>0.953654</td>\n",
       "      <td>0.988779</td>\n",
       "      <td>1.008976</td>\n",
       "      <td>1.014637</td>\n",
       "      <td>1.003546</td>\n",
       "      <td>0.986347</td>\n",
       "      <td>1.022264</td>\n",
       "      <td>0.986244</td>\n",
       "      <td>0.985382</td>\n",
       "      <td>1.023069</td>\n",
       "      <td>...</td>\n",
       "      <td>0.977754</td>\n",
       "      <td>1.000309</td>\n",
       "      <td>1.005886</td>\n",
       "      <td>0.985994</td>\n",
       "      <td>1.012867</td>\n",
       "      <td>0.995525</td>\n",
       "      <td>1.008333</td>\n",
       "      <td>0.977885</td>\n",
       "      <td>0.966742</td>\n",
       "      <td>1.031944</td>\n",
       "    </tr>\n",
       "    <tr>\n",
       "      <th>...</th>\n",
       "      <td>...</td>\n",
       "      <td>...</td>\n",
       "      <td>...</td>\n",
       "      <td>...</td>\n",
       "      <td>...</td>\n",
       "      <td>...</td>\n",
       "      <td>...</td>\n",
       "      <td>...</td>\n",
       "      <td>...</td>\n",
       "      <td>...</td>\n",
       "      <td>...</td>\n",
       "      <td>...</td>\n",
       "      <td>...</td>\n",
       "      <td>...</td>\n",
       "      <td>...</td>\n",
       "      <td>...</td>\n",
       "      <td>...</td>\n",
       "      <td>...</td>\n",
       "      <td>...</td>\n",
       "      <td>...</td>\n",
       "      <td>...</td>\n",
       "    </tr>\n",
       "    <tr>\n",
       "      <th>7556</th>\n",
       "      <td>0.811348</td>\n",
       "      <td>4.425034</td>\n",
       "      <td>14.766847</td>\n",
       "      <td>1.214792</td>\n",
       "      <td>2.464844</td>\n",
       "      <td>8.313323</td>\n",
       "      <td>6.220409</td>\n",
       "      <td>0.829116</td>\n",
       "      <td>1.971589</td>\n",
       "      <td>0.641096</td>\n",
       "      <td>...</td>\n",
       "      <td>2.306526</td>\n",
       "      <td>7.688165</td>\n",
       "      <td>3.879812</td>\n",
       "      <td>3.314052</td>\n",
       "      <td>0.912184</td>\n",
       "      <td>1.586951</td>\n",
       "      <td>0.892907</td>\n",
       "      <td>2.571148</td>\n",
       "      <td>1.261182</td>\n",
       "      <td>2.637073</td>\n",
       "    </tr>\n",
       "    <tr>\n",
       "      <th>7557</th>\n",
       "      <td>0.798980</td>\n",
       "      <td>4.363753</td>\n",
       "      <td>14.691230</td>\n",
       "      <td>1.199751</td>\n",
       "      <td>2.494825</td>\n",
       "      <td>8.435705</td>\n",
       "      <td>6.259554</td>\n",
       "      <td>0.833367</td>\n",
       "      <td>1.953675</td>\n",
       "      <td>0.644936</td>\n",
       "      <td>...</td>\n",
       "      <td>2.307973</td>\n",
       "      <td>7.777908</td>\n",
       "      <td>3.925788</td>\n",
       "      <td>3.331361</td>\n",
       "      <td>0.903915</td>\n",
       "      <td>1.589316</td>\n",
       "      <td>0.892445</td>\n",
       "      <td>2.578655</td>\n",
       "      <td>1.259998</td>\n",
       "      <td>2.642647</td>\n",
       "    </tr>\n",
       "    <tr>\n",
       "      <th>7558</th>\n",
       "      <td>0.804445</td>\n",
       "      <td>4.377626</td>\n",
       "      <td>14.704969</td>\n",
       "      <td>1.196473</td>\n",
       "      <td>2.492210</td>\n",
       "      <td>8.495167</td>\n",
       "      <td>6.227358</td>\n",
       "      <td>0.830848</td>\n",
       "      <td>1.958592</td>\n",
       "      <td>0.641859</td>\n",
       "      <td>...</td>\n",
       "      <td>2.273908</td>\n",
       "      <td>7.799688</td>\n",
       "      <td>3.931430</td>\n",
       "      <td>3.313272</td>\n",
       "      <td>0.896930</td>\n",
       "      <td>1.597037</td>\n",
       "      <td>0.890054</td>\n",
       "      <td>2.617907</td>\n",
       "      <td>1.279178</td>\n",
       "      <td>2.659816</td>\n",
       "    </tr>\n",
       "    <tr>\n",
       "      <th>7559</th>\n",
       "      <td>0.803079</td>\n",
       "      <td>4.416807</td>\n",
       "      <td>14.844010</td>\n",
       "      <td>1.212829</td>\n",
       "      <td>2.503176</td>\n",
       "      <td>8.541346</td>\n",
       "      <td>6.117160</td>\n",
       "      <td>0.825221</td>\n",
       "      <td>1.958776</td>\n",
       "      <td>0.650802</td>\n",
       "      <td>...</td>\n",
       "      <td>2.272114</td>\n",
       "      <td>7.868453</td>\n",
       "      <td>3.855930</td>\n",
       "      <td>3.343921</td>\n",
       "      <td>0.886987</td>\n",
       "      <td>1.577118</td>\n",
       "      <td>0.893816</td>\n",
       "      <td>2.577651</td>\n",
       "      <td>1.273677</td>\n",
       "      <td>2.671299</td>\n",
       "    </tr>\n",
       "    <tr>\n",
       "      <th>7560</th>\n",
       "      <td>0.797207</td>\n",
       "      <td>4.364576</td>\n",
       "      <td>14.682939</td>\n",
       "      <td>1.227938</td>\n",
       "      <td>2.522433</td>\n",
       "      <td>8.556943</td>\n",
       "      <td>6.153169</td>\n",
       "      <td>0.832696</td>\n",
       "      <td>1.963094</td>\n",
       "      <td>0.658069</td>\n",
       "      <td>...</td>\n",
       "      <td>2.230432</td>\n",
       "      <td>7.805727</td>\n",
       "      <td>3.830465</td>\n",
       "      <td>3.298939</td>\n",
       "      <td>0.897019</td>\n",
       "      <td>1.575216</td>\n",
       "      <td>0.908879</td>\n",
       "      <td>2.517782</td>\n",
       "      <td>1.263112</td>\n",
       "      <td>2.659912</td>\n",
       "    </tr>\n",
       "  </tbody>\n",
       "</table>\n",
       "<p>7561 rows × 500 columns</p>\n",
       "</div>"
      ],
      "text/plain": [
       "           0         1          2         3         4         5         6    \\\n",
       "0     1.000000  1.000000   1.000000  1.000000  1.000000  1.000000  1.000000   \n",
       "1     0.986443  0.981734   1.003919  1.001220  0.992150  1.023593  1.009534   \n",
       "2     0.973315  0.986919   1.021829  1.008495  1.004227  1.003162  1.029075   \n",
       "3     0.961793  0.988038   1.016353  1.016739  1.010510  0.977981  1.027447   \n",
       "4     0.953654  0.988779   1.008976  1.014637  1.003546  0.986347  1.022264   \n",
       "...        ...       ...        ...       ...       ...       ...       ...   \n",
       "7556  0.811348  4.425034  14.766847  1.214792  2.464844  8.313323  6.220409   \n",
       "7557  0.798980  4.363753  14.691230  1.199751  2.494825  8.435705  6.259554   \n",
       "7558  0.804445  4.377626  14.704969  1.196473  2.492210  8.495167  6.227358   \n",
       "7559  0.803079  4.416807  14.844010  1.212829  2.503176  8.541346  6.117160   \n",
       "7560  0.797207  4.364576  14.682939  1.227938  2.522433  8.556943  6.153169   \n",
       "\n",
       "           7         8         9    ...       490       491       492  \\\n",
       "0     1.000000  1.000000  1.000000  ...  1.000000  1.000000  1.000000   \n",
       "1     1.003563  0.992221  1.009098  ...  0.992625  1.006112  1.005102   \n",
       "2     0.986015  0.990893  1.008441  ...  0.987595  1.008779  1.004810   \n",
       "3     0.980028  0.979880  1.008266  ...  0.980760  1.006338  1.009820   \n",
       "4     0.986244  0.985382  1.023069  ...  0.977754  1.000309  1.005886   \n",
       "...        ...       ...       ...  ...       ...       ...       ...   \n",
       "7556  0.829116  1.971589  0.641096  ...  2.306526  7.688165  3.879812   \n",
       "7557  0.833367  1.953675  0.644936  ...  2.307973  7.777908  3.925788   \n",
       "7558  0.830848  1.958592  0.641859  ...  2.273908  7.799688  3.931430   \n",
       "7559  0.825221  1.958776  0.650802  ...  2.272114  7.868453  3.855930   \n",
       "7560  0.832696  1.963094  0.658069  ...  2.230432  7.805727  3.830465   \n",
       "\n",
       "           493       494       495       496       497       498       499  \n",
       "0     1.000000  1.000000  1.000000  1.000000  1.000000  1.000000  1.000000  \n",
       "1     0.998744  1.003838  0.987468  1.014697  1.012155  0.983917  0.992721  \n",
       "2     0.991436  1.008199  0.989142  1.032748  1.011510  0.981311  1.001988  \n",
       "3     0.986345  1.004726  0.987583  1.022814  0.992096  0.975189  1.007672  \n",
       "4     0.985994  1.012867  0.995525  1.008333  0.977885  0.966742  1.031944  \n",
       "...        ...       ...       ...       ...       ...       ...       ...  \n",
       "7556  3.314052  0.912184  1.586951  0.892907  2.571148  1.261182  2.637073  \n",
       "7557  3.331361  0.903915  1.589316  0.892445  2.578655  1.259998  2.642647  \n",
       "7558  3.313272  0.896930  1.597037  0.890054  2.617907  1.279178  2.659816  \n",
       "7559  3.343921  0.886987  1.577118  0.893816  2.577651  1.273677  2.671299  \n",
       "7560  3.298939  0.897019  1.575216  0.908879  2.517782  1.263112  2.659912  \n",
       "\n",
       "[7561 rows x 500 columns]"
      ]
     },
     "execution_count": 45,
     "metadata": {},
     "output_type": "execute_result"
    }
   ],
   "source": [
    "# Run the Monte Carlo simulation to forecast 30 years cumulative returns\n",
    "mc_40bonds_60stocks.calc_cumulative_return()"
   ]
  },
  {
   "cell_type": "code",
   "execution_count": 46,
   "metadata": {},
   "outputs": [
    {
     "data": {
      "text/plain": [
       "<AxesSubplot:title={'center':'500 Simulations of Cumulative Portfolio Return Trajectories Over the Next 7560 Trading Days.'}>"
      ]
     },
     "execution_count": 46,
     "metadata": {},
     "output_type": "execute_result"
    },
    {
     "data": {
      "image/png": "[encoded data removed]",
      "text/plain": [
       "<Figure size 432x288 with 1 Axes>"
      ]
     },
     "metadata": {
      "needs_background": "light"
     },
     "output_type": "display_data"
    }
   ],
   "source": [
    "# Visualize the 30-year Monte Carlo simulation by creating an\n",
    "# overlay line plot\n",
    "mc_40bonds_60stocks.plot_simulation()\n"
   ]
  },
  {
   "cell_type": "markdown",
   "metadata": {},
   "source": [
    "#### Step 3: Plot the probability distribution of the Monte Carlo simulation."
   ]
  },
  {
   "cell_type": "code",
   "execution_count": 47,
   "metadata": {},
   "outputs": [
    {
     "data": {
      "text/plain": [
       "<AxesSubplot:title={'center':'Distribution of Final Cumuluative Returns Across All 500 Simulations'}, ylabel='Frequency'>"
      ]
     },
     "execution_count": 47,
     "metadata": {},
     "output_type": "execute_result"
    },
    {
     "data": {
      "image/png": "[encoded data removed]",
      "text/plain": [
       "<Figure size 432x288 with 1 Axes>"
      ]
     },
     "metadata": {
      "needs_background": "light"
     },
     "output_type": "display_data"
    }
   ],
   "source": [
    "# Visualize the probability distribution of the 30-year Monte Carlo simulation \n",
    "# by plotting a histogram\n",
    "mc_40bonds_60stocks.plot_distribution()\n"
   ]
  },
  {
   "cell_type": "markdown",
   "metadata": {},
   "source": [
    "#### Step 4: Generate the summary statistics for the Monte Carlo simulation."
   ]
  },
  {
   "cell_type": "code",
   "execution_count": 51,
   "metadata": {},
   "outputs": [
    {
     "data": {
      "text/plain": [
       "count           500.000000\n",
       "mean              2.755769\n",
       "std               2.480658\n",
       "min               0.216312\n",
       "25%               1.120525\n",
       "50%               1.937201\n",
       "75%               3.318850\n",
       "max              18.144537\n",
       "95% CI Lower      0.452948\n",
       "95% CI Upper      9.257704\n",
       "Name: 7560, dtype: float64"
      ]
     },
     "execution_count": 51,
     "metadata": {},
     "output_type": "execute_result"
    }
   ],
   "source": [
    "# Generate summary statistics from the 30-year Monte Carlo simulation results\n",
    "# Save the results as a variable\n",
    "mc_30y_summary = mc_40bonds_60stocks.summarize_cumulative_return()\n",
    "\n",
    "\n",
    "# Review the 30-year Monte Carlo summary statistics\n",
    "mc_30y_summary"
   ]
  },
  {
   "cell_type": "markdown",
   "metadata": {},
   "source": [
    "### Analyze the Retirement Portfolio Forecasts\n",
    "\n",
    "Using the current value of only the stock and bond portion of the member's portfolio and the summary statistics that you generated from the Monte Carlo simulation, answer the following question in your Jupyter notebook:\n",
    "\n",
    "-  What are the lower and upper bounds for the expected value of the portfolio with a 95% confidence interval?\n"
   ]
  },
  {
   "cell_type": "code",
   "execution_count": 52,
   "metadata": {},
   "outputs": [
    {
     "name": "stdout",
     "output_type": "stream",
     "text": [
      "Current balance of the stock and bond portion of the portfolio: $60064.30\n"
     ]
    }
   ],
   "source": [
    "# Print the current balance of the stock and bond portion of the members portfolio\n",
    "print(f'Current balance of the stock and bond portion of the portfolio: ${total_stocks_bonds:.2f}')"
   ]
  },
  {
   "cell_type": "code",
   "execution_count": 56,
   "metadata": {},
   "outputs": [
    {
     "name": "stdout",
     "output_type": "stream",
     "text": [
      "There is a 95% chance that with the current $60064.30 in the portfolio with a 60% stocks and 40% bonds split over the next 30 years will end within the range of $27206.00 and $556057.52.\n"
     ]
    }
   ],
   "source": [
    "# Use the lower and upper `95%` confidence intervals to calculate the range of the possible outcomes for the current stock/bond portfolio\n",
    "ci_lower_thirty_cumulative_return = mc_30y_summary[8] * total_stocks_bonds\n",
    "ci_upper_thirty_cumulative_return = mc_30y_summary[9] * total_stocks_bonds\n",
    "\n",
    "# Print the result of your calculations\n",
    "print(f'There is a 95% chance that with the current ${total_stocks_bonds:.2f} in the portfolio'\n",
    "      f' with a 60% stocks and 40% bonds split over the next 30 years will end within the range of'\n",
    "      f' ${ci_lower_thirty_cumulative_return:.2f} and ${ci_upper_thirty_cumulative_return:.2f}.')\n"
   ]
  },
  {
   "cell_type": "markdown",
   "metadata": {},
   "source": [
    "### Forecast Cumulative Returns in 10 Years\n",
    "\n",
    "The CTO of the credit union is impressed with your work on these planning tools but wonders if 30 years is a long time to wait until retirement. So, your next task is to adjust the retirement portfolio and run a new Monte Carlo simulation to find out if the changes will allow members to retire earlier.\n",
    "\n",
    "For this new Monte Carlo simulation, do the following: \n",
    "\n",
    "- Forecast the cumulative returns for 10 years from now. Because of the shortened investment horizon (30 years to 10 years), the portfolio needs to invest more heavily in the riskier asset&mdash;that is, stock&mdash;to help accumulate wealth for retirement. \n",
    "\n",
    "- Adjust the weights of the retirement portfolio so that the composition for the Monte Carlo simulation consists of 20% bonds and 80% stocks. \n",
    "\n",
    "- Run the simulation over 500 samples, and use the same data that the API call to Alpaca generated.\n",
    "\n",
    "- Based on the new Monte Carlo simulation, answer the following questions in your Jupyter notebook:\n",
    "\n",
    "    - Using the current value of only the stock and bond portion of the member's portfolio and the summary statistics that you generated from the new Monte Carlo simulation, what are the lower and upper bounds for the expected value of the portfolio (with the new weights) with a 95% confidence interval?\n",
    "\n",
    "    - Will weighting the portfolio more heavily toward stocks allow the credit union members to retire after only 10 years?\n"
   ]
  },
  {
   "cell_type": "code",
   "execution_count": null,
   "metadata": {},
   "outputs": [],
   "source": [
    "# Configure a Monte Carlo simulation to forecast 10 years cumulative returns\n",
    "# The weights should be split 20% to AGG and 80% to SPY.\n",
    "# Run 500 samples.\n",
    "# YOUR CODE HERE\n",
    "\n",
    "# Review the simulation input data\n",
    "# YOUR CODE HERE\n"
   ]
  },
  {
   "cell_type": "code",
   "execution_count": null,
   "metadata": {},
   "outputs": [],
   "source": [
    "# Run the Monte Carlo simulation to forecast 10 years cumulative returns\n",
    "# YOUR CODE HERE\n"
   ]
  },
  {
   "cell_type": "code",
   "execution_count": null,
   "metadata": {},
   "outputs": [],
   "source": [
    "# Visualize the 10-year Monte Carlo simulation by creating an\n",
    "# overlay line plot\n",
    "# YOUR CODE HERE\n"
   ]
  },
  {
   "cell_type": "code",
   "execution_count": null,
   "metadata": {},
   "outputs": [],
   "source": [
    "# Visualize the probability distribution of the 10-year Monte Carlo simulation \n",
    "# by plotting a histogram\n",
    "# YOUR CODE HERE\n"
   ]
  },
  {
   "cell_type": "code",
   "execution_count": null,
   "metadata": {},
   "outputs": [],
   "source": [
    "# Generate summary statistics from the 10-year Monte Carlo simulation results\n",
    "# Save the results as a variable\n",
    "# YOUR CODE HERE\n",
    "\n",
    "\n",
    "# Review the 10-year Monte Carlo summary statistics\n",
    "# YOUR CODE HERE"
   ]
  },
  {
   "cell_type": "markdown",
   "metadata": {},
   "source": [
    "### Answer the following questions:"
   ]
  },
  {
   "cell_type": "markdown",
   "metadata": {},
   "source": [
    "#### Question: Using the current value of only the stock and bond portion of the member's portfolio and the summary statistics that you generated from the new Monte Carlo simulation, what are the lower and upper bounds for the expected value of the portfolio (with the new weights) with a 95% confidence interval?"
   ]
  },
  {
   "cell_type": "code",
   "execution_count": null,
   "metadata": {},
   "outputs": [],
   "source": [
    "# Print the current balance of the stock and bond portion of the members portfolio\n",
    "# YOUR CODE HERE\n"
   ]
  },
  {
   "cell_type": "code",
   "execution_count": null,
   "metadata": {},
   "outputs": [],
   "source": [
    "# Use the lower and upper `95%` confidence intervals to calculate the range of the possible outcomes for the current stock/bond portfolio\n",
    "ci_lower_ten_cumulative_return = # YOUR CODE HERE\n",
    "ci_upper_ten_cumulative_return = # YOUR CODE HERE\n",
    "\n",
    "# Print the result of your calculations\n",
    "# YOUR CODE HERE\n"
   ]
  },
  {
   "cell_type": "markdown",
   "metadata": {},
   "source": [
    "#### Question: Will weighting the portfolio more heavily to stocks allow the credit union members to retire after only 10 years?"
   ]
  },
  {
   "cell_type": "raw",
   "metadata": {},
   "source": [
    "**Answer** # YOUR ANSWER HERE"
   ]
  },
  {
   "cell_type": "code",
   "execution_count": null,
   "metadata": {},
   "outputs": [],
   "source": []
  }
 ],
 "metadata": {
  "kernelspec": {
   "display_name": "Python 3 (ipykernel)",
   "language": "python",
   "name": "python3"
  },
  "language_info": {
   "codemirror_mode": {
    "name": "ipython",
    "version": 3
   },
   "file_extension": ".py",
   "mimetype": "text/x-python",
   "name": "python",
   "nbconvert_exporter": "python",
   "pygments_lexer": "ipython3",
   "version": "3.7.13"
  }
 },
 "nbformat": 4,
 "nbformat_minor": 4
}
